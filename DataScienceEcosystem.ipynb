{
  "nbformat": 4,
  "nbformat_minor": 0,
  "metadata": {
    "colab": {
      "provenance": []
    },
    "kernelspec": {
      "name": "python3",
      "display_name": "Python 3"
    },
    "language_info": {
      "name": "python"
    }
  },
  "cells": [
    {
      "cell_type": "markdown",
      "source": [
        "# Data Science Tools and Ecosystem"
      ],
      "metadata": {
        "id": "eJNdzxQV98ji"
      }
    },
    {
      "cell_type": "markdown",
      "source": [
        "## In this notebook, Data Science Tools and Ecosystem are summarized."
      ],
      "metadata": {
        "id": "KQ6DW4H--b-b"
      }
    },
    {
      "cell_type": "markdown",
      "source": [
        "**Objectives:**\n",
        "\n",
        "- List popular languages for Data Science  \n",
        "- Identify commonly used libraries for Data Science  \n",
        "- Create and modify Jupyter Notebooks  \n",
        "- Demonstrate basic data visualization techniques  \n",
        "- Explain version control concepts with Git and GitHub  "
      ],
      "metadata": {
        "id": "GttCq2gfBbXx"
      }
    },
    {
      "cell_type": "markdown",
      "source": [
        "### Some of the popular languages that Data Scientists use are:\n",
        "\n",
        "\n",
        "*   Python\n",
        "*   R\n",
        "*   Java\n",
        "\n",
        "\n"
      ],
      "metadata": {
        "id": "J95ys_7E-tmL"
      }
    },
    {
      "cell_type": "markdown",
      "source": [
        "### Some of the commonly used libraries used by Data Scientists include:\n",
        "\n",
        "\n",
        "*   Scikit-learn\n",
        "*   Numpy\n",
        "*   Pandas\n",
        "*   PyTorch\n",
        "\n",
        "\n"
      ],
      "metadata": {
        "id": "Vx-2fhts_Nfk"
      }
    },
    {
      "cell_type": "markdown",
      "source": [
        "| Data Science Tools       |\n",
        "|---------------------------|\n",
        "| Jupyter Notebook          |\n",
        "| RStudio                   |\n",
        "| Visual Studio Code         |"
      ],
      "metadata": {
        "id": "0HC4vwsj_ylv"
      }
    },
    {
      "cell_type": "markdown",
      "source": [
        "### Below are a few examples of evaluating arithmetic expressions in Python"
      ],
      "metadata": {
        "id": "JfaqFb8yAWzi"
      }
    },
    {
      "cell_type": "code",
      "execution_count": 1,
      "metadata": {
        "colab": {
          "base_uri": "https://localhost:8080/"
        },
        "id": "S5H_1txj9yfU",
        "outputId": "4b4b23bd-c1bd-474b-dc8b-db7119903a42"
      },
      "outputs": [
        {
          "output_type": "execute_result",
          "data": {
            "text/plain": [
              "17"
            ]
          },
          "metadata": {},
          "execution_count": 1
        }
      ],
      "source": [
        "# This a simple arithmetic expression to mutiply then add integers\n",
        "(3*4)+5"
      ]
    },
    {
      "cell_type": "code",
      "source": [
        "# This will convert 200 minutes to hours by diving by 60\n",
        "200/60"
      ],
      "metadata": {
        "colab": {
          "base_uri": "https://localhost:8080/"
        },
        "id": "LV7xUyg8Ajkp",
        "outputId": "876e5d2d-9a5d-4e91-d21e-a8c678dda778"
      },
      "execution_count": 2,
      "outputs": [
        {
          "output_type": "execute_result",
          "data": {
            "text/plain": [
              "3.3333333333333335"
            ]
          },
          "metadata": {},
          "execution_count": 2
        }
      ]
    },
    {
      "cell_type": "markdown",
      "source": [
        "\n",
        "\n",
        "*   List item\n",
        "*   List item\n",
        "\n"
      ],
      "metadata": {
        "id": "P378PvydBKdO"
      }
    },
    {
      "cell_type": "markdown",
      "source": [
        "## Author  \n",
        "Ayman Mohammad Yousef"
      ],
      "metadata": {
        "id": "fa0n43ARB09a"
      }
    },
    {
      "cell_type": "code",
      "source": [],
      "metadata": {
        "id": "uzeNz0KRA3Hw"
      },
      "execution_count": null,
      "outputs": []
    }
  ]
}